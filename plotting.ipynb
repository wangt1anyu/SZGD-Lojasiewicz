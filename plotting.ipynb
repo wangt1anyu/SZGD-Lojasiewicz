{
 "cells": [
  {
   "cell_type": "code",
   "execution_count": 181,
   "id": "3608181e",
   "metadata": {},
   "outputs": [],
   "source": [
    "import numpy as np\n",
    "\n",
    "import pickle\n",
    "\n",
    "import matplotlib.pyplot as plt\n",
    "%matplotlib inline  "
   ]
  },
  {
   "cell_type": "markdown",
   "id": "76ed857e",
   "metadata": {},
   "source": [
    "# Eigvalues of Q"
   ]
  },
  {
   "cell_type": "code",
   "execution_count": 262,
   "id": "b567d094",
   "metadata": {},
   "outputs": [],
   "source": [
    "Q = pickle.load(open('./raw_data/Q','rb')) "
   ]
  },
  {
   "cell_type": "code",
   "execution_count": 266,
   "id": "376b03c2",
   "metadata": {},
   "outputs": [
    {
     "data": {
      "text/plain": [
       "(array([13.,  3.,  1.,  2.,  1.,  2.,  0.,  2.,  0.,  0.,  1.,  0.,  1.,\n",
       "         0.,  1.,  1.,  0.,  0.,  0.,  0.,  0.,  1.,  0.,  0.,  0.,  0.,\n",
       "         0.,  0.,  0.,  1.]),\n",
       " array([6.40282786e-05, 9.04631146e-01, 1.80919826e+00, 2.71376538e+00,\n",
       "        3.61833250e+00, 4.52289962e+00, 5.42746674e+00, 6.33203386e+00,\n",
       "        7.23660097e+00, 8.14116809e+00, 9.04573521e+00, 9.95030233e+00,\n",
       "        1.08548694e+01, 1.17594366e+01, 1.26640037e+01, 1.35685708e+01,\n",
       "        1.44731379e+01, 1.53777050e+01, 1.62822722e+01, 1.71868393e+01,\n",
       "        1.80914064e+01, 1.89959735e+01, 1.99005406e+01, 2.08051077e+01,\n",
       "        2.17096749e+01, 2.26142420e+01, 2.35188091e+01, 2.44233762e+01,\n",
       "        2.53279433e+01, 2.62325105e+01, 2.71370776e+01]),\n",
       " <BarContainer object of 30 artists>)"
      ]
     },
     "execution_count": 266,
     "metadata": {},
     "output_type": "execute_result"
    },
    {
     "data": {
      "image/png": "[encoded data removed]",
      "text/plain": [
       "<Figure size 432x288 with 1 Axes>"
      ]
     },
     "metadata": {
      "needs_background": "light"
     },
     "output_type": "display_data"
    }
   ],
   "source": [
    "plt.hist( np.linalg.eig(Q)[0] , bins = 30 )"
   ]
  },
  {
   "cell_type": "markdown",
   "id": "cfbae9f2",
   "metadata": {},
   "source": [
    "# the toy function"
   ]
  },
  {
   "cell_type": "code",
   "execution_count": 301,
   "id": "c3caeb90",
   "metadata": {
    "scrolled": true
   },
   "outputs": [
    {
     "data": {
      "image/png": "[encoded data removed]",
      "text/plain": [
       "<Figure size 432x288 with 1 Axes>"
      ]
     },
     "metadata": {
      "needs_background": "light"
     },
     "output_type": "display_data"
    }
   ],
   "source": [
    "import numpy as np\n",
    "import matplotlib.pyplot as plt\n",
    "\n",
    "x = np.arange(-200,200,0.01)\n",
    "y = np.sqrt(np.abs(x))\n",
    "\n",
    "rc = {\"xtick.direction\" : \"inout\", \"ytick.direction\" : \"inout\",\n",
    "      \"xtick.major.size\" : 5, \"ytick.major.size\" : 5,}\n",
    "\n",
    "plt.rcParams['font.size'] = 15 \n",
    "\n",
    "# with plt.rc_context(rc):\n",
    "fig, ax = plt.subplots()\n",
    "ax.plot(x, y) \n",
    "\n",
    "plt.ylim(0,100)\n",
    "\n",
    "ax.spines['left'].set_position('zero')\n",
    "ax.spines['right'].set_visible(False)\n",
    "ax.spines['bottom'].set_position('zero')\n",
    "ax.spines['top'].set_visible(False)\n",
    "ax.xaxis.set_ticks_position('bottom')\n",
    "ax.yaxis.set_ticks_position('left')\n",
    "\n",
    "# make arrows\n",
    "ax.plot((1), (0), ls=\"\", marker=\">\", ms=10, color=\"k\",\n",
    "        transform=ax.get_yaxis_transform(), clip_on=False)\n",
    "ax.plot((0), (1), ls=\"\", marker=\"^\", ms=10, color=\"k\",\n",
    "        transform=ax.get_xaxis_transform(), clip_on=False)\n",
    "\n",
    "# plt.show()\n",
    "\n",
    "plt.tight_layout() \n",
    "\n",
    "plt.savefig( './figures/toy.png' , dpi = 150)"
   ]
  },
  {
   "cell_type": "markdown",
   "id": "e2207947",
   "metadata": {},
   "source": [
    "# in terms of iterations"
   ]
  },
  {
   "cell_type": "code",
   "execution_count": 269,
   "id": "ce5936b2",
   "metadata": {},
   "outputs": [],
   "source": [
    "# res[1] \n",
    "\n",
    "plt.rcParams['font.size'] = 15 \n",
    "\n",
    "def plot_iter(eta , f = True, small = True): \n",
    "\n",
    "    for k in [1,10,20,30]: \n",
    "        \n",
    "        if small: \n",
    "            res = pickle.load(open('./raw_data/res_k{0}_eta{1}_expsmall'.format(k, eta),'rb')) \n",
    "        else: \n",
    "            res = pickle.load(open('./raw_data/res_k{0}_eta{1}_explarge'.format(k, eta),'rb')) \n",
    "        \n",
    "        if f: \n",
    "            m = np.mean( np.array( res )[:,1,:] , axis = 0 ) \n",
    "            std = np.std( np.array( res )[:,1,:] , axis = 0 ) \n",
    "            plt.plot( m , label = 'k = {}'.format(k) ) \n",
    "            plt.fill_between(range(len(m)), m - std, m + std, alpha = 0.4) \n",
    "            \n",
    "        else: \n",
    "            m = np.mean( np.array( res )[:,0,:] , axis = 0 )\n",
    "            std = np.std( np.array( res )[:,0,:] , axis = 0 ) \n",
    "            plt.plot( m , label = 'k = {}'.format(k) ) \n",
    "            plt.fill_between(range(len(m)), m - std, m + std, alpha = 0.4) \n",
    "            \n",
    "    if small: \n",
    "        res = pickle.load(open('./raw_data/res_gd_eta{}_expsmall'.format(eta),'rb')) \n",
    "    else: \n",
    "        res = pickle.load(open('./raw_data/res_gd_eta{}_explarge'.format(eta),'rb')) \n",
    "\n",
    "    if f: \n",
    "        m = np.mean( np.array( res )[:,1,:] , axis = 0 )\n",
    "        std = np.std( np.array( res )[:,1,:] , axis = 0 )\n",
    "#             l = \n",
    "        plt.plot( m , label = 'GD' ) \n",
    "        plt.fill_between(range(len(m)), m - std, m + std, alpha = 0.4)\n",
    "\n",
    "    else: \n",
    "        m = np.mean( np.array( res )[:,0,:] , axis = 0 )\n",
    "        std = np.std( np.array( res )[:,0,:] , axis = 0 )\n",
    "\n",
    "        plt.plot( m , label = 'GD' ) \n",
    "        plt.fill_between(range(len(m)), m - std, m + std, alpha = 0.4)\n",
    "\n",
    "    plt.legend() \n",
    "\n",
    "    plt.xlabel('Iterations') \n",
    "    \n",
    "    if f: \n",
    "        plt.ylabel('$f(x)$') \n",
    "        plt.xlim([-50, 3000]) \n",
    "        plt.ylim([-10, 50]) \n",
    "        \n",
    "    else: \n",
    "        plt.ylabel('$\\|\\| x \\|\\|$') \n",
    "        plt.xlim([-200, 20000]) \n",
    "        plt.ylim([-1, 6.5]) \n",
    "\n",
    "    plt.tight_layout() \n",
    "    \n",
    "    if (small and f): \n",
    "        plt.savefig( './figures/fig_f_eta{}_expsmall_iter.png'.format(eta) , dpi = 150)\n",
    "    elif (small and (not f)): \n",
    "        plt.savefig( './figures/fig_x_eta{}_expsmall_iter.png'.format(eta) , dpi = 150)\n",
    "    elif ((not small) and (not f)): \n",
    "        plt.savefig( './figures/fig_x_eta{}_explarge_iter.png'.format(eta) , dpi = 150)\n",
    "    else: \n",
    "        plt.savefig( './figures/fig_f_eta{}_explarge_iter.png'.format(eta) , dpi = 150)\n",
    "        \n",
    "    plt.clf() "
   ]
  },
  {
   "cell_type": "code",
   "execution_count": 270,
   "id": "5f3c38b1",
   "metadata": {
    "scrolled": true
   },
   "outputs": [
    {
     "data": {
      "text/plain": [
       "<Figure size 432x288 with 0 Axes>"
      ]
     },
     "metadata": {},
     "output_type": "display_data"
    }
   ],
   "source": [
    "plot_iter(0.005 , f = True, small = True) \n",
    "plot_iter(0.005 , f = False, small = True) \n",
    "plot_iter(0.005 , f = True, small = False) \n",
    "plot_iter(0.005 , f = False, small = False) "
   ]
  },
  {
   "cell_type": "code",
   "execution_count": 271,
   "id": "7e37a6f5",
   "metadata": {},
   "outputs": [],
   "source": [
    "# plot_iter_compare(0.001 , f = True, small = True) \n",
    "# plot_iter_compare(0.001 , f = False, small = True) \n",
    "# plot_iter_compare(0.001 , f = True, small = False) \n",
    "# plot_iter_compare(0.001 , f = False, small = False) "
   ]
  },
  {
   "cell_type": "markdown",
   "id": "cca9d677",
   "metadata": {},
   "source": [
    "# in terms of sample complexity"
   ]
  },
  {
   "cell_type": "code",
   "execution_count": 15,
   "id": "b77a7852",
   "metadata": {},
   "outputs": [],
   "source": [
    "plt.rcParams['font.size'] = 15 \n",
    "\n",
    "def plot_sample(eta , f = True, small = True): \n",
    "\n",
    "    for k in [1, 10, 20, 30]:  \n",
    "        if small: \n",
    "            res = pickle.load(open('./raw_data/res_k{0}_eta{1}_expsmall'.format(k, eta),'rb')) \n",
    "        else: \n",
    "            res = pickle.load(open('./raw_data/res_k{0}_eta{1}_explarge'.format(k, eta),'rb')) \n",
    "        \n",
    "        if f: \n",
    "            m = np.mean( np.array( res )[:,1,:] , axis = 0 )\n",
    "            std = np.std( np.array( res )[:,1,:] , axis = 0 )\n",
    "            \n",
    "            plt.plot( np.array(range(len(m))) * k * 2, m , label = 'k = {}'.format(k) ) \n",
    "            plt.fill_between( np.array(range(len(m))) * k * 2, m - std, m + std, alpha = 0.4  )\n",
    "            \n",
    "        else: \n",
    "            m = np.mean( np.array( res )[:,0,:] , axis = 0 )\n",
    "            std = np.std( np.array( res )[:,0,:] , axis = 0 )\n",
    "            \n",
    "            plt.plot( np.array(range(len(m))) * k * 2, m , label = 'k = {}'.format(k) ) \n",
    "            plt.fill_between( np.array(range(len(m))) * k * 2, m - std, m + std, alpha = 0.4  )\n",
    "\n",
    "    plt.legend() \n",
    "\n",
    "    plt.xlabel('Number of Function Evaluations') \n",
    "    \n",
    "    if f: \n",
    "        plt.ylabel('$f(x)$') \n",
    "        plt.xlim([-50, 5000]) \n",
    "#         plt.ylim([-10, 50]) \n",
    "        \n",
    "    else: \n",
    "        plt.ylabel('$\\|\\| x \\|\\|$') \n",
    "        plt.xlim([-100, 20000]) \n",
    "#         plt.ylim([0, 15]) \n",
    "\n",
    "    plt.tight_layout() \n",
    "    \n",
    "#     plt.show()\n",
    "    \n",
    "    if (small and f): \n",
    "        plt.savefig( './figures/fig_f_eta{}_expsmall_sample.png'.format(eta) , dpi = 150)\n",
    "    elif (small and (not f)): \n",
    "        plt.savefig( './figures/fig_x_eta{}_expsmall_sample.png'.format(eta) , dpi = 150)\n",
    "    elif ((not small) and (not f)): \n",
    "        plt.savefig( './figures/fig_x_eta{}_explarge_sample.png'.format(eta) , dpi = 150)\n",
    "    else: \n",
    "        plt.savefig( './figures/fig_f_eta{}_explarge_sample.png'.format(eta) , dpi = 150)\n",
    "        \n",
    "    plt.clf() "
   ]
  },
  {
   "cell_type": "code",
   "execution_count": 16,
   "id": "96b530c6",
   "metadata": {
    "scrolled": false
   },
   "outputs": [
    {
     "data": {
      "text/plain": [
       "<Figure size 432x288 with 0 Axes>"
      ]
     },
     "metadata": {},
     "output_type": "display_data"
    }
   ],
   "source": [
    "plot_sample(0.005 , f = True, small = True) \n",
    "plot_sample(0.005 , f = False, small = True) \n",
    "plot_sample(0.005 , f = True, small = False) \n",
    "plot_sample(0.005 , f = False, small = False) "
   ]
  },
  {
   "cell_type": "code",
   "execution_count": null,
   "id": "806772fe",
   "metadata": {},
   "outputs": [],
   "source": []
  },
  {
   "cell_type": "code",
   "execution_count": null,
   "id": "d140579f",
   "metadata": {},
   "outputs": [],
   "source": []
  }
 ],
 "metadata": {
  "kernelspec": {
   "display_name": "Python 3 (ipykernel)",
   "language": "python",
   "name": "python3"
  },
  "language_info": {
   "codemirror_mode": {
    "name": "ipython",
    "version": 3
   },
   "file_extension": ".py",
   "mimetype": "text/x-python",
   "name": "python",
   "nbconvert_exporter": "python",
   "pygments_lexer": "ipython3",
   "version": "3.9.12"
  }
 },
 "nbformat": 4,
 "nbformat_minor": 5
}
